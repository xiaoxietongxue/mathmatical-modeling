{
 "cells": [
  {
   "cell_type": "markdown",
   "id": "91de80d5",
   "metadata": {},
   "source": [
    "#  接14.1，采用熵权法赋权重"
   ]
  },
  {
   "cell_type": "code",
   "execution_count": 1,
   "id": "4fc24033",
   "metadata": {},
   "outputs": [],
   "source": [
    "import numpy as np\n",
    "import pandas as pd"
   ]
  },
  {
   "cell_type": "markdown",
   "id": "7e6f1ee3",
   "metadata": {},
   "source": [
    "##  一.导入原始数据R1(正向化&无量纲化处理）"
   ]
  },
  {
   "cell_type": "code",
   "execution_count": 2,
   "id": "a18d5a64",
   "metadata": {},
   "outputs": [
    {
     "data": {
      "text/plain": [
       "array([[0.4671, 0.3662, 0.5056, 0.4931, 0.4811, 0.7089],\n",
       "       [0.5839, 0.6591, 0.455 , 0.401 , 0.2887, 0.3544],\n",
       "       [0.4204, 0.4882, 0.5308, 0.5853, 0.6736, 0.4962],\n",
       "       [0.5139, 0.4394, 0.5056, 0.5392, 0.4811, 0.3544]])"
      ]
     },
     "execution_count": 2,
     "metadata": {},
     "output_type": "execute_result"
    }
   ],
   "source": [
    "data=np.loadtxt('./dataset/data14_1_2.txt')\n",
    "data"
   ]
  },
  {
   "cell_type": "markdown",
   "id": "50525d29",
   "metadata": {},
   "source": [
    "##  二.计算特征比重矩阵"
   ]
  },
  {
   "cell_type": "code",
   "execution_count": 3,
   "id": "57b771b4",
   "metadata": {},
   "outputs": [
    {
     "data": {
      "text/plain": [
       "array([1.9853, 1.9529, 1.997 , 2.0186, 1.9245, 1.9139])"
      ]
     },
     "execution_count": 3,
     "metadata": {},
     "output_type": "execute_result"
    }
   ],
   "source": [
    "sum_col=data.sum(axis=0)\n",
    "sum_col"
   ]
  },
  {
   "cell_type": "code",
   "execution_count": 4,
   "id": "c0abb724",
   "metadata": {},
   "outputs": [
    {
     "data": {
      "text/plain": [
       "array([[0.2353, 0.1875, 0.2532, 0.2443, 0.25  , 0.3704],\n",
       "       [0.2941, 0.3375, 0.2278, 0.1987, 0.15  , 0.1852],\n",
       "       [0.2118, 0.25  , 0.2658, 0.29  , 0.35  , 0.2593],\n",
       "       [0.2589, 0.225 , 0.2532, 0.2671, 0.25  , 0.1852]])"
      ]
     },
     "execution_count": 4,
     "metadata": {},
     "output_type": "execute_result"
    }
   ],
   "source": [
    "p=data/sum_col\n",
    "np.set_printoptions(precision=4)\n",
    "p"
   ]
  },
  {
   "cell_type": "markdown",
   "id": "1d8493fc",
   "metadata": {},
   "source": [
    "##  三.计算第j项指标的熵值"
   ]
  },
  {
   "cell_type": "code",
   "execution_count": 5,
   "id": "c6f68a2c",
   "metadata": {},
   "outputs": [
    {
     "data": {
      "text/plain": [
       "array([0.9947, 0.983 , 0.9989, 0.9933, 0.9703, 0.9684])"
      ]
     },
     "execution_count": 5,
     "metadata": {},
     "output_type": "execute_result"
    }
   ],
   "source": [
    "e=-np.sum(p*np.log(p),axis=0)/(np.log(data.shape[0]))\n",
    "e"
   ]
  },
  {
   "cell_type": "markdown",
   "id": "f306b1c8",
   "metadata": {},
   "source": [
    "##  四.计算第j项指标的差异系数"
   ]
  },
  {
   "cell_type": "code",
   "execution_count": 6,
   "id": "67457174",
   "metadata": {},
   "outputs": [
    {
     "data": {
      "text/plain": [
       "array([0.0053, 0.017 , 0.0011, 0.0067, 0.0297, 0.0316])"
      ]
     },
     "execution_count": 6,
     "metadata": {},
     "output_type": "execute_result"
    }
   ],
   "source": [
    "g=1-e\n",
    "g"
   ]
  },
  {
   "cell_type": "markdown",
   "id": "91f82ee1",
   "metadata": {},
   "source": [
    "##  五.计算第j项指标的权重系数"
   ]
  },
  {
   "cell_type": "code",
   "execution_count": 7,
   "id": "74c34f00",
   "metadata": {},
   "outputs": [
    {
     "data": {
      "text/plain": [
       "array([0.058 , 0.1862, 0.0121, 0.0737, 0.3242, 0.3457])"
      ]
     },
     "execution_count": 7,
     "metadata": {},
     "output_type": "execute_result"
    }
   ],
   "source": [
    "w=g/sum(g)\n",
    "w"
   ]
  }
 ],
 "metadata": {
  "kernelspec": {
   "display_name": "Python 3 (ipykernel)",
   "language": "python",
   "name": "python3"
  },
  "language_info": {
   "codemirror_mode": {
    "name": "ipython",
    "version": 3
   },
   "file_extension": ".py",
   "mimetype": "text/x-python",
   "name": "python",
   "nbconvert_exporter": "python",
   "pygments_lexer": "ipython3",
   "version": "3.9.12"
  }
 },
 "nbformat": 4,
 "nbformat_minor": 5
}
