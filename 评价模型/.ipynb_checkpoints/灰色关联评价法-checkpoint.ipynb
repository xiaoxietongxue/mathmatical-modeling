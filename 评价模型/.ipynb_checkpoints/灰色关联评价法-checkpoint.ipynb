{
 "cells": [
  {
   "cell_type": "markdown",
   "id": "44bb7118",
   "metadata": {},
   "source": [
    "#  接14-1，采用灰色关联评价法进行评价"
   ]
  },
  {
   "cell_type": "code",
   "execution_count": 1,
   "id": "22eb13a1",
   "metadata": {},
   "outputs": [],
   "source": [
    "import numpy as np\n",
    "import pandas as pd"
   ]
  },
  {
   "cell_type": "markdown",
   "id": "19e181d8",
   "metadata": {},
   "source": [
    "##  一.导入初始数据（仍然采用评价矩阵R1，指标已经正向化和无量纲化）"
   ]
  },
  {
   "cell_type": "code",
   "execution_count": 2,
   "id": "74d0b0e5",
   "metadata": {},
   "outputs": [
    {
     "data": {
      "text/plain": [
       "array([[0.4671, 0.3662, 0.5056, 0.4931, 0.4811, 0.7089],\n",
       "       [0.5839, 0.6591, 0.455 , 0.401 , 0.2887, 0.3544],\n",
       "       [0.4204, 0.4882, 0.5308, 0.5853, 0.6736, 0.4962],\n",
       "       [0.5139, 0.4394, 0.5056, 0.5392, 0.4811, 0.3544]])"
      ]
     },
     "execution_count": 2,
     "metadata": {},
     "output_type": "execute_result"
    }
   ],
   "source": [
    "data=np.loadtxt('./dataset/data14_1_2.txt')\n",
    "data"
   ]
  },
  {
   "cell_type": "markdown",
   "id": "0e0fb94a",
   "metadata": {},
   "source": [
    "##  二.确定比较数列（评价对象）和参考数列（评价标准）"
   ]
  },
  {
   "cell_type": "code",
   "execution_count": 3,
   "id": "855e998f",
   "metadata": {},
   "outputs": [
    {
     "data": {
      "text/plain": [
       "array([0.5839, 0.6591, 0.5308, 0.5853, 0.6736, 0.7089])"
      ]
     },
     "execution_count": 3,
     "metadata": {},
     "output_type": "execute_result"
    }
   ],
   "source": [
    "base=data.max(axis=0)\n",
    "base    #参考数列"
   ]
  },
  {
   "cell_type": "markdown",
   "id": "39c9a1e5",
   "metadata": {},
   "source": [
    "##  三.计算灰色关联系数"
   ]
  },
  {
   "cell_type": "code",
   "execution_count": 4,
   "id": "e8fccc31",
   "metadata": {},
   "outputs": [
    {
     "data": {
      "text/plain": [
       "0.38489999999999996"
      ]
     },
     "execution_count": 4,
     "metadata": {},
     "output_type": "execute_result"
    }
   ],
   "source": [
    "max_d=abs((data-base)).max()  #计算两极最大差\n",
    "max_d"
   ]
  },
  {
   "cell_type": "code",
   "execution_count": 5,
   "id": "5a5a8a1e",
   "metadata": {},
   "outputs": [
    {
     "data": {
      "text/plain": [
       "0.0"
      ]
     },
     "execution_count": 5,
     "metadata": {},
     "output_type": "execute_result"
    }
   ],
   "source": [
    "min_d=abs((data-base)).min()  #计算两极最小差\n",
    "min_d"
   ]
  },
  {
   "cell_type": "code",
   "execution_count": 6,
   "id": "71fb85a9",
   "metadata": {},
   "outputs": [],
   "source": [
    "rho=0.5 #设置分辨系数为0.5；分辨系数与分辨率成正相关"
   ]
  },
  {
   "cell_type": "code",
   "execution_count": 7,
   "id": "accd89bb",
   "metadata": {},
   "outputs": [
    {
     "data": {
      "text/plain": [
       "array([[0.6223, 0.3965, 0.8842, 0.6761, 0.4999, 1.    ],\n",
       "       [1.    , 1.    , 0.7174, 0.5108, 0.3333, 0.3519],\n",
       "       [0.5407, 0.5297, 1.    , 1.    , 1.    , 0.475 ],\n",
       "       [0.7333, 0.4669, 0.8842, 0.8067, 0.4999, 0.3519]])"
      ]
     },
     "execution_count": 7,
     "metadata": {},
     "output_type": "execute_result"
    }
   ],
   "source": [
    "ksai=(min_d+rho*max_d)/(abs(data-base)+rho*max_d)\n",
    "np.set_printoptions(precision=4)\n",
    "ksai"
   ]
  },
  {
   "cell_type": "markdown",
   "id": "dd8580b4",
   "metadata": {},
   "source": [
    "##  四.计算灰色关联度"
   ]
  },
  {
   "cell_type": "markdown",
   "id": "147f4211",
   "metadata": {},
   "source": [
    "各指标有权重时加权平均，无权重说明时直接取算数平均"
   ]
  },
  {
   "cell_type": "code",
   "execution_count": 8,
   "id": "985261cf",
   "metadata": {},
   "outputs": [
    {
     "data": {
      "text/plain": [
       "array([0.6798, 0.6522, 0.7576, 0.6238])"
      ]
     },
     "execution_count": 8,
     "metadata": {},
     "output_type": "execute_result"
    }
   ],
   "source": [
    "r=ksai.mean(axis=1)\n",
    "r"
   ]
  },
  {
   "cell_type": "markdown",
   "id": "a8e1fa28",
   "metadata": {},
   "source": [
    "##  五.做出评价"
   ]
  },
  {
   "cell_type": "markdown",
   "id": "630faccb",
   "metadata": {},
   "source": [
    "灰色关联度越高，代表该评价对象越优"
   ]
  },
  {
   "cell_type": "markdown",
   "id": "8ae3b8f6",
   "metadata": {},
   "source": [
    "$ A_3>A_1>A_2>A_4 $"
   ]
  }
 ],
 "metadata": {
  "kernelspec": {
   "display_name": "Python 3 (ipykernel)",
   "language": "python",
   "name": "python3"
  },
  "language_info": {
   "codemirror_mode": {
    "name": "ipython",
    "version": 3
   },
   "file_extension": ".py",
   "mimetype": "text/x-python",
   "name": "python",
   "nbconvert_exporter": "python",
   "pygments_lexer": "ipython3",
   "version": "3.9.12"
  }
 },
 "nbformat": 4,
 "nbformat_minor": 5
}
