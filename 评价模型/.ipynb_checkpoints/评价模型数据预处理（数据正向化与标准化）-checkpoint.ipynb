{
 "cells": [
  {
   "cell_type": "markdown",
   "id": "bc5d69f7",
   "metadata": {},
   "source": [
    "# 例题14-1（p394)"
   ]
  },
  {
   "cell_type": "code",
   "execution_count": 1,
   "id": "c58c5ed1",
   "metadata": {},
   "outputs": [],
   "source": [
    "import numpy as np\n",
    "import pandas as pd"
   ]
  },
  {
   "cell_type": "markdown",
   "id": "948704f9",
   "metadata": {},
   "source": [
    "## 一.导入数据"
   ]
  },
  {
   "cell_type": "code",
   "execution_count": 2,
   "id": "17810f2c",
   "metadata": {},
   "outputs": [],
   "source": [
    "data=np.loadtxt('./dataset/data14_1_1.txt')  #导入txt数据"
   ]
  },
  {
   "cell_type": "code",
   "execution_count": 3,
   "id": "490d25e8",
   "metadata": {},
   "outputs": [
    {
     "data": {
      "text/plain": [
       "array([[2.0e+00, 1.5e+03, 2.0e+04, 5.5e+06, 5.0e-01, 1.0e+00],\n",
       "       [2.5e+00, 2.7e+03, 1.8e+04, 6.5e+06, 3.0e-01, 5.0e-01],\n",
       "       [1.8e+00, 2.0e+03, 2.1e+04, 4.5e+06, 7.0e-01, 7.0e-01],\n",
       "       [2.2e+00, 1.8e+03, 2.0e+04, 5.0e+06, 5.0e-01, 5.0e-01]])"
      ]
     },
     "execution_count": 3,
     "metadata": {},
     "output_type": "execute_result"
    }
   ],
   "source": [
    "data"
   ]
  },
  {
   "cell_type": "markdown",
   "id": "a26a9238",
   "metadata": {},
   "source": [
    "## 二.数据无量纲化处理——分析得到除了第四列费用为逆向指标之外，其余均为正向指标"
   ]
  },
  {
   "cell_type": "code",
   "execution_count": 4,
   "id": "695bb11d",
   "metadata": {
    "scrolled": true
   },
   "outputs": [
    {
     "data": {
      "text/plain": [
       "array([[0.4671, 0.3662, 0.5056, 0.4931, 0.4811, 0.7089],\n",
       "       [0.5839, 0.6591, 0.455 , 0.401 , 0.2887, 0.3544],\n",
       "       [0.4204, 0.4882, 0.5308, 0.5853, 0.6736, 0.4962],\n",
       "       [0.5139, 0.4394, 0.5056, 0.5392, 0.4811, 0.3544]])"
      ]
     },
     "execution_count": 4,
     "metadata": {},
     "output_type": "execute_result"
    }
   ],
   "source": [
    "#方法一 向量归一化法\n",
    "den1=np.linalg.norm(data,axis=0)   #axis=0对列操作，axis=1对行操作\n",
    "R1=data/den1           #处理正向指标\n",
    "R1[:,3]=1-R1[:,3] #对逆向指标单独处理\n",
    "np.set_printoptions(precision=4) #结果展示小数点后的位数比较多，所以增加设置,precision后的数字就是小数点后的位数\n",
    "R1    #评价矩阵"
   ]
  },
  {
   "cell_type": "code",
   "execution_count": 5,
   "id": "a7b64220",
   "metadata": {},
   "outputs": [
    {
     "data": {
      "text/plain": [
       "array([[0.8   , 0.5556, 0.9524, 0.1538, 0.7143, 1.    ],\n",
       "       [1.    , 1.    , 0.8571, 0.    , 0.4286, 0.5   ],\n",
       "       [0.72  , 0.7407, 1.    , 0.3077, 1.    , 0.7   ],\n",
       "       [0.88  , 0.6667, 0.9524, 0.2308, 0.7143, 0.5   ]])"
      ]
     },
     "execution_count": 5,
     "metadata": {},
     "output_type": "execute_result"
    }
   ],
   "source": [
    "\n",
    "#方法二 比例变换法\n",
    "maxnum=data.max(axis=0)     #求每列的最大值\n",
    "minnum=data.min(axis=0)     #求每列的最小值\n",
    "R2=data/maxnum         #处理正向指标\n",
    "R2[:,3]=1-R2[:,3]                  #逆向指标单独处理\n",
    "R2    #评价矩阵"
   ]
  },
  {
   "cell_type": "markdown",
   "id": "aa15bbc5",
   "metadata": {},
   "source": [
    "##  三.将数据借助numpy保存"
   ]
  },
  {
   "cell_type": "code",
   "execution_count": 6,
   "id": "363cd82e",
   "metadata": {},
   "outputs": [],
   "source": [
    "np.savetxt('data14_1_2.txt',R1,fmt='%0.4f')  # 保存评价矩阵R1，结果保留四位小数"
   ]
  },
  {
   "cell_type": "markdown",
   "id": "a53da6ce",
   "metadata": {},
   "source": [
    "##  四.将数据借助pandas保存为excel格式"
   ]
  },
  {
   "cell_type": "code",
   "execution_count": 7,
   "id": "cc91f52f",
   "metadata": {},
   "outputs": [],
   "source": [
    "f=pd.ExcelWriter('data14_1_3.xlsx')\n",
    "pd.DataFrame(R1).to_excel(f,'Sheet1',index=None)\n",
    "pd.DataFrame(R2).to_excel(f,'Sheet2',index=None)\n",
    "f.save()"
   ]
  }
 ],
 "metadata": {
  "kernelspec": {
   "display_name": "Python 3 (ipykernel)",
   "language": "python",
   "name": "python3"
  },
  "language_info": {
   "codemirror_mode": {
    "name": "ipython",
    "version": 3
   },
   "file_extension": ".py",
   "mimetype": "text/x-python",
   "name": "python",
   "nbconvert_exporter": "python",
   "pygments_lexer": "ipython3",
   "version": "3.9.12"
  }
 },
 "nbformat": 4,
 "nbformat_minor": 5
}
