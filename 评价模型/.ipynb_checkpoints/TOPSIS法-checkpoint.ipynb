{
 "cells": [
  {
   "cell_type": "markdown",
   "id": "25411b73",
   "metadata": {},
   "source": [
    "#  接14-1——采用例题14-1得到的评价矩阵R1进行基于TOPSIS法的评估"
   ]
  },
  {
   "cell_type": "code",
   "execution_count": 1,
   "id": "77053355",
   "metadata": {},
   "outputs": [],
   "source": [
    "import numpy as np\n",
    "import pandas as pd"
   ]
  },
  {
   "cell_type": "markdown",
   "id": "d81236a4",
   "metadata": {},
   "source": [
    "##  一.导入原始数据R1(正向化&无量纲化处理）"
   ]
  },
  {
   "cell_type": "code",
   "execution_count": 2,
   "id": "483eed93",
   "metadata": {},
   "outputs": [],
   "source": [
    "data=np.loadtxt('./dataset/data14_1_2.txt')     #导入初始数据"
   ]
  },
  {
   "cell_type": "code",
   "execution_count": 3,
   "id": "f2a8d73d",
   "metadata": {},
   "outputs": [
    {
     "data": {
      "text/plain": [
       "array([[0.4671, 0.3662, 0.5056, 0.4931, 0.4811, 0.7089],\n",
       "       [0.5839, 0.6591, 0.455 , 0.401 , 0.2887, 0.3544],\n",
       "       [0.4204, 0.4882, 0.5308, 0.5853, 0.6736, 0.4962],\n",
       "       [0.5139, 0.4394, 0.5056, 0.5392, 0.4811, 0.3544]])"
      ]
     },
     "execution_count": 3,
     "metadata": {},
     "output_type": "execute_result"
    }
   ],
   "source": [
    "data"
   ]
  },
  {
   "cell_type": "markdown",
   "id": "d071c97d",
   "metadata": {},
   "source": [
    "##  二. 确定正理想解和负理想解"
   ]
  },
  {
   "cell_type": "code",
   "execution_count": 4,
   "id": "18833a8f",
   "metadata": {},
   "outputs": [
    {
     "data": {
      "text/plain": [
       "array([0.5839, 0.6591, 0.5308, 0.5853, 0.6736, 0.7089])"
      ]
     },
     "execution_count": 4,
     "metadata": {},
     "output_type": "execute_result"
    }
   ],
   "source": [
    "c_plus=data.max(axis=0)  #正理想解\n",
    "c_plus"
   ]
  },
  {
   "cell_type": "code",
   "execution_count": 5,
   "id": "8adc6ed8",
   "metadata": {},
   "outputs": [
    {
     "data": {
      "text/plain": [
       "array([0.4204, 0.3662, 0.455 , 0.401 , 0.2887, 0.3544])"
      ]
     },
     "execution_count": 5,
     "metadata": {},
     "output_type": "execute_result"
    }
   ],
   "source": [
    "c_minus=data.min(axis=0)  #负理想解\n",
    "c_minus"
   ]
  },
  {
   "cell_type": "markdown",
   "id": "ec13bbc0",
   "metadata": {},
   "source": [
    "## 三.计算到正理想解和负理想解的距离"
   ]
  },
  {
   "cell_type": "code",
   "execution_count": 6,
   "id": "3569c735",
   "metadata": {},
   "outputs": [],
   "source": [
    "d_plus=np.sqrt(((data-c_plus)**2).sum(axis=1))"
   ]
  },
  {
   "cell_type": "code",
   "execution_count": 7,
   "id": "0eeb3b39",
   "metadata": {},
   "outputs": [],
   "source": [
    "d_minus=np.sqrt(((data-c_minus)**2).sum(axis=1))"
   ]
  },
  {
   "cell_type": "code",
   "execution_count": 8,
   "id": "9bd27dfd",
   "metadata": {},
   "outputs": [
    {
     "data": {
      "text/plain": [
       "array([0.38160815, 0.55993784, 0.31808859, 0.46760543])"
      ]
     },
     "execution_count": 8,
     "metadata": {},
     "output_type": "execute_result"
    }
   ],
   "source": [
    "d_plus      #到正理想解的距离"
   ]
  },
  {
   "cell_type": "code",
   "execution_count": 9,
   "id": "a7ebbe1a",
   "metadata": {},
   "outputs": [
    {
     "data": {
      "text/plain": [
       "array([0.41941825, 0.33544397, 0.47207137, 0.2697737 ])"
      ]
     },
     "execution_count": 9,
     "metadata": {},
     "output_type": "execute_result"
    }
   ],
   "source": [
    "d_minus    #到负理想解的距离"
   ]
  },
  {
   "cell_type": "markdown",
   "id": "198bf231",
   "metadata": {},
   "source": [
    "##  四.计算各个评价对象的打分"
   ]
  },
  {
   "cell_type": "code",
   "execution_count": 10,
   "id": "8cb133fd",
   "metadata": {},
   "outputs": [
    {
     "data": {
      "text/plain": [
       "array([0.52360103, 0.37463791, 0.59743773, 0.36585481])"
      ]
     },
     "execution_count": 10,
     "metadata": {},
     "output_type": "execute_result"
    }
   ],
   "source": [
    "score=d_minus/(d_plus+d_minus)\n",
    "score"
   ]
  },
  {
   "cell_type": "markdown",
   "id": "cf0b1a33",
   "metadata": {},
   "source": [
    "## 五.分析结果"
   ]
  },
  {
   "cell_type": "markdown",
   "id": "7be15917",
   "metadata": {},
   "source": [
    "$A_3>A_1>A_2>A_4 $"
   ]
  }
 ],
 "metadata": {
  "kernelspec": {
   "display_name": "Python 3 (ipykernel)",
   "language": "python",
   "name": "python3"
  },
  "language_info": {
   "codemirror_mode": {
    "name": "ipython",
    "version": 3
   },
   "file_extension": ".py",
   "mimetype": "text/x-python",
   "name": "python",
   "nbconvert_exporter": "python",
   "pygments_lexer": "ipython3",
   "version": "3.9.12"
  }
 },
 "nbformat": 4,
 "nbformat_minor": 5
}
