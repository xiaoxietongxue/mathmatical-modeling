{
 "cells": [
  {
   "cell_type": "markdown",
   "id": "62463e08",
   "metadata": {},
   "source": [
    "#  接例14-1，采用RSR(rank sum ratio)法进行综合评价"
   ]
  },
  {
   "cell_type": "code",
   "execution_count": 1,
   "id": "76e924c8",
   "metadata": {},
   "outputs": [],
   "source": [
    "import numpy as np\n",
    "import pandas as pd\n",
    "from scipy.stats import rankdata  #后续编秩的时候需要引入的函数"
   ]
  },
  {
   "cell_type": "markdown",
   "id": "e2626f70",
   "metadata": {},
   "source": [
    " ##  一.导入初始数据（仍然采用评价矩阵R1，指标已经正向化和无量纲化）"
   ]
  },
  {
   "cell_type": "code",
   "execution_count": 2,
   "id": "01913147",
   "metadata": {},
   "outputs": [
    {
     "data": {
      "text/plain": [
       "array([[0.4671, 0.3662, 0.5056, 0.4931, 0.4811, 0.7089],\n",
       "       [0.5839, 0.6591, 0.455 , 0.401 , 0.2887, 0.3544],\n",
       "       [0.4204, 0.4882, 0.5308, 0.5853, 0.6736, 0.4962],\n",
       "       [0.5139, 0.4394, 0.5056, 0.5392, 0.4811, 0.3544]])"
      ]
     },
     "execution_count": 2,
     "metadata": {},
     "output_type": "execute_result"
    }
   ],
   "source": [
    "data=np.loadtxt('./dataset/data14_1_2.txt')\n",
    "data"
   ]
  },
  {
   "cell_type": "markdown",
   "id": "d1b214a5",
   "metadata": {},
   "source": [
    "## 二.编秩"
   ]
  },
  {
   "cell_type": "code",
   "execution_count": 3,
   "id": "9594df81",
   "metadata": {},
   "outputs": [
    {
     "data": {
      "text/plain": [
       "array([[2. , 1. , 2.5, 2. , 2.5, 4. ],\n",
       "       [4. , 4. , 1. , 1. , 1. , 1.5],\n",
       "       [1. , 3. , 4. , 4. , 4. , 3. ],\n",
       "       [3. , 2. , 2.5, 3. , 2.5, 1.5]])"
      ]
     },
     "execution_count": 3,
     "metadata": {},
     "output_type": "execute_result"
    }
   ],
   "source": [
    "R=rankdata(data,axis=0)\n",
    "R"
   ]
  },
  {
   "cell_type": "markdown",
   "id": "0464a046",
   "metadata": {},
   "source": [
    "##  三.计算秩和比"
   ]
  },
  {
   "cell_type": "code",
   "execution_count": 4,
   "id": "7a04c248",
   "metadata": {},
   "outputs": [],
   "source": [
    "row=data.shape[0]  #获取数据的行数，即评价对象的个数\n",
    "col=data.shape[1]  #获取数据的列数，即指标的个数"
   ]
  },
  {
   "cell_type": "code",
   "execution_count": 5,
   "id": "b74e1406",
   "metadata": {},
   "outputs": [
    {
     "data": {
      "text/plain": [
       "array([0.58333333, 0.52083333, 0.79166667, 0.60416667])"
      ]
     },
     "execution_count": 5,
     "metadata": {},
     "output_type": "execute_result"
    }
   ],
   "source": [
    "RSR=R.sum(axis=1)/(row*col)\n",
    "RSR"
   ]
  },
  {
   "cell_type": "markdown",
   "id": "7e04633e",
   "metadata": {},
   "source": [
    "## 四.做出评价"
   ]
  },
  {
   "cell_type": "markdown",
   "id": "a83a28b5",
   "metadata": {},
   "source": [
    "秩和比越大，评价对象越优\n",
    "故 $ A_3>A_4>A_1>A_2 $"
   ]
  }
 ],
 "metadata": {
  "kernelspec": {
   "display_name": "Python 3 (ipykernel)",
   "language": "python",
   "name": "python3"
  },
  "language_info": {
   "codemirror_mode": {
    "name": "ipython",
    "version": 3
   },
   "file_extension": ".py",
   "mimetype": "text/x-python",
   "name": "python",
   "nbconvert_exporter": "python",
   "pygments_lexer": "ipython3",
   "version": "3.9.12"
  }
 },
 "nbformat": 4,
 "nbformat_minor": 5
}
