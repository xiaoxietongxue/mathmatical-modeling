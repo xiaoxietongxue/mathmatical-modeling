{
 "cells": [
  {
   "cell_type": "markdown",
   "id": "bb6f5cf4",
   "metadata": {},
   "source": [
    "#  写在开头：本篇文章是作者在复习线性代数时对常用运算python代码实现的一些总结"
   ]
  },
  {
   "cell_type": "code",
   "execution_count": 1,
   "id": "5a030cb7",
   "metadata": {},
   "outputs": [],
   "source": [
    "import numpy as np"
   ]
  },
  {
   "cell_type": "markdown",
   "id": "c51a1c39",
   "metadata": {},
   "source": [
    "##  一. ndarray常用运算"
   ]
  },
  {
   "cell_type": "markdown",
   "id": "dbb8eabf",
   "metadata": {},
   "source": [
    "##  1.1 获取多维数组的行数、列数...以及维度、元素总数（以二维数组为例）"
   ]
  },
  {
   "cell_type": "code",
   "execution_count": 2,
   "id": "67732b61",
   "metadata": {},
   "outputs": [
    {
     "data": {
      "text/plain": [
       "array([[1, 2, 3],\n",
       "       [4, 5, 6],\n",
       "       [7, 8, 9]])"
      ]
     },
     "execution_count": 2,
     "metadata": {},
     "output_type": "execute_result"
    }
   ],
   "source": [
    "array_dim2=np.array([[1,2,3],[4,5,6],[7,8,9]])\n",
    "array_dim2"
   ]
  },
  {
   "cell_type": "code",
   "execution_count": 3,
   "id": "9153e5e3",
   "metadata": {},
   "outputs": [
    {
     "data": {
      "text/plain": [
       "3"
      ]
     },
     "execution_count": 3,
     "metadata": {},
     "output_type": "execute_result"
    }
   ],
   "source": [
    "np.shape(array_dim2)[0]   #获取行数"
   ]
  },
  {
   "cell_type": "code",
   "execution_count": 4,
   "id": "40dbdcbe",
   "metadata": {},
   "outputs": [
    {
     "data": {
      "text/plain": [
       "3"
      ]
     },
     "execution_count": 4,
     "metadata": {},
     "output_type": "execute_result"
    }
   ],
   "source": [
    "np.shape(array_dim2)[1]   #获取列数"
   ]
  },
  {
   "cell_type": "code",
   "execution_count": 5,
   "id": "de1b6bd7",
   "metadata": {},
   "outputs": [
    {
     "data": {
      "text/plain": [
       "2"
      ]
     },
     "execution_count": 5,
     "metadata": {},
     "output_type": "execute_result"
    }
   ],
   "source": [
    "np.ndim(array_dim2)   #获取维度   注：维度就是shape元组的长度，此处shape元组是（3,3）"
   ]
  },
  {
   "cell_type": "code",
   "execution_count": 6,
   "id": "32a04cac",
   "metadata": {},
   "outputs": [
    {
     "data": {
      "text/plain": [
       "9"
      ]
     },
     "execution_count": 6,
     "metadata": {},
     "output_type": "execute_result"
    }
   ],
   "source": [
    "np.size(array_dim2)   #获取元素总个数"
   ]
  },
  {
   "cell_type": "markdown",
   "id": "7d3a5eb2",
   "metadata": {},
   "source": [
    "##  1.2 对数组中元素求和(多维数组可以指定对列求和还是对行求和）"
   ]
  },
  {
   "cell_type": "code",
   "execution_count": 7,
   "id": "09b0808b",
   "metadata": {},
   "outputs": [
    {
     "data": {
      "text/plain": [
       "array([[1, 2, 3],\n",
       "       [4, 5, 6],\n",
       "       [7, 8, 9]])"
      ]
     },
     "execution_count": 7,
     "metadata": {},
     "output_type": "execute_result"
    }
   ],
   "source": [
    "array_dim2=np.array([[1,2,3],[4,5,6],[7,8,9]])\n",
    "array_dim2"
   ]
  },
  {
   "cell_type": "code",
   "execution_count": 8,
   "id": "f16b407a",
   "metadata": {},
   "outputs": [
    {
     "data": {
      "text/plain": [
       "45"
      ]
     },
     "execution_count": 8,
     "metadata": {},
     "output_type": "execute_result"
    }
   ],
   "source": [
    "np.sum(array_dim2)    #对全部数求和"
   ]
  },
  {
   "cell_type": "code",
   "execution_count": 9,
   "id": "dc83dad7",
   "metadata": {},
   "outputs": [
    {
     "data": {
      "text/plain": [
       "array([12, 15, 18])"
      ]
     },
     "execution_count": 9,
     "metadata": {},
     "output_type": "execute_result"
    }
   ],
   "source": [
    "np.sum(array_dim2,axis=0)  #对列求和"
   ]
  },
  {
   "cell_type": "code",
   "execution_count": 10,
   "id": "5e7542dc",
   "metadata": {},
   "outputs": [
    {
     "data": {
      "text/plain": [
       "array([ 6, 15, 24])"
      ]
     },
     "execution_count": 10,
     "metadata": {},
     "output_type": "execute_result"
    }
   ],
   "source": [
    "np.sum(array_dim2,axis=1)  #对行求和"
   ]
  },
  {
   "cell_type": "markdown",
   "id": "a430ed46",
   "metadata": {},
   "source": [
    "## 1.3 对数组中的元素求平方根"
   ]
  },
  {
   "cell_type": "code",
   "execution_count": 11,
   "id": "6196f949",
   "metadata": {
    "scrolled": true
   },
   "outputs": [
    {
     "data": {
      "text/plain": [
       "array([[1.    , 1.4142, 1.7321],\n",
       "       [2.    , 2.2361, 2.4495],\n",
       "       [2.6458, 2.8284, 3.    ]])"
      ]
     },
     "execution_count": 11,
     "metadata": {},
     "output_type": "execute_result"
    }
   ],
   "source": [
    "\n",
    "np.set_printoptions(precision=4)  #控制一下输出位数\n",
    "np.sqrt(array_dim2)"
   ]
  },
  {
   "cell_type": "markdown",
   "id": "c2ed2646",
   "metadata": {},
   "source": [
    "##  二.向量基本运算"
   ]
  },
  {
   "cell_type": "markdown",
   "id": "7614bc2d",
   "metadata": {},
   "source": [
    "##  2.1 向量点积运算"
   ]
  },
  {
   "cell_type": "code",
   "execution_count": 12,
   "id": "383bdafb",
   "metadata": {},
   "outputs": [
    {
     "data": {
      "text/plain": [
       "array([1, 2, 3])"
      ]
     },
     "execution_count": 12,
     "metadata": {},
     "output_type": "execute_result"
    }
   ],
   "source": [
    "vec1=np.array([1,2,3])\n",
    "vec1"
   ]
  },
  {
   "cell_type": "code",
   "execution_count": 13,
   "id": "5eb69206",
   "metadata": {},
   "outputs": [
    {
     "data": {
      "text/plain": [
       "array([4, 5, 6])"
      ]
     },
     "execution_count": 13,
     "metadata": {},
     "output_type": "execute_result"
    }
   ],
   "source": [
    "vec2=np.array([4,5,6])\n",
    "vec2"
   ]
  },
  {
   "cell_type": "code",
   "execution_count": 14,
   "id": "4bd705a5",
   "metadata": {},
   "outputs": [
    {
     "data": {
      "text/plain": [
       "32"
      ]
     },
     "execution_count": 14,
     "metadata": {},
     "output_type": "execute_result"
    }
   ],
   "source": [
    "dot_product1=(vec1*vec2).sum()  #基于numpy元素逐个运算的机制\n",
    "dot_product1"
   ]
  },
  {
   "cell_type": "code",
   "execution_count": 15,
   "id": "854aad42",
   "metadata": {},
   "outputs": [
    {
     "data": {
      "text/plain": [
       "32"
      ]
     },
     "execution_count": 15,
     "metadata": {},
     "output_type": "execute_result"
    }
   ],
   "source": [
    "dot_product2=np.dot(vec1,vec2)  #numpy库自带，建议使用这个，代码可读性强一点\n",
    "dot_product2"
   ]
  },
  {
   "cell_type": "markdown",
   "id": "b95defbb",
   "metadata": {},
   "source": [
    "## 1.2 求向量的模"
   ]
  },
  {
   "cell_type": "code",
   "execution_count": 16,
   "id": "41c594d0",
   "metadata": {},
   "outputs": [
    {
     "data": {
      "text/plain": [
       "array([3, 4, 5])"
      ]
     },
     "execution_count": 16,
     "metadata": {},
     "output_type": "execute_result"
    }
   ],
   "source": [
    "vec=np.array([3,4,5])\n",
    "vec"
   ]
  },
  {
   "cell_type": "code",
   "execution_count": 17,
   "id": "09d757a3",
   "metadata": {},
   "outputs": [
    {
     "data": {
      "text/plain": [
       "7.0710678118654755"
      ]
     },
     "execution_count": 17,
     "metadata": {},
     "output_type": "execute_result"
    }
   ],
   "source": [
    "norm_vec1=np.sqrt((vec**2).sum())     #基于numpy元素逐个运算的机制\n",
    "norm_vec1"
   ]
  },
  {
   "cell_type": "code",
   "execution_count": 18,
   "id": "61322072",
   "metadata": {},
   "outputs": [
    {
     "data": {
      "text/plain": [
       "7.0710678118654755"
      ]
     },
     "execution_count": 18,
     "metadata": {},
     "output_type": "execute_result"
    }
   ],
   "source": [
    "norm_vec2=np.linalg.norm(vec)          #numpy库自带，建议使用这个，代码可读性强一点\n",
    "norm_vec2"
   ]
  },
  {
   "cell_type": "markdown",
   "id": "929ff2da",
   "metadata": {},
   "source": [
    "##  三.矩阵基本运算"
   ]
  },
  {
   "cell_type": "markdown",
   "id": "c1248168",
   "metadata": {},
   "source": [
    "##  3.1 矩阵乘法"
   ]
  },
  {
   "cell_type": "code",
   "execution_count": 20,
   "id": "e11becde",
   "metadata": {},
   "outputs": [
    {
     "data": {
      "text/plain": [
       "[[1, 2, 3], [4, 5, 6]]"
      ]
     },
     "execution_count": 20,
     "metadata": {},
     "output_type": "execute_result"
    }
   ],
   "source": [
    "matrix_1=[[1,2,3],[4,5,6]]\n",
    "matrix_1"
   ]
  },
  {
   "cell_type": "code",
   "execution_count": 22,
   "id": "b43bc5df",
   "metadata": {},
   "outputs": [
    {
     "data": {
      "text/plain": [
       "[[3, 4], [5, 6], [7, 8]]"
      ]
     },
     "execution_count": 22,
     "metadata": {},
     "output_type": "execute_result"
    }
   ],
   "source": [
    "matrix_2=[[3,4],[5,6],[7,8]]\n",
    "matrix_2"
   ]
  },
  {
   "cell_type": "code",
   "execution_count": 23,
   "id": "d5f9e2f7",
   "metadata": {},
   "outputs": [
    {
     "data": {
      "text/plain": [
       "array([[34, 40],\n",
       "       [79, 94]])"
      ]
     },
     "execution_count": 23,
     "metadata": {},
     "output_type": "execute_result"
    }
   ],
   "source": [
    "np.matmul(matrix_1,matrix_2) # matmul-matrix multiplication(矩阵乘法)"
   ]
  },
  {
   "cell_type": "code",
   "execution_count": null,
   "id": "0074072d",
   "metadata": {},
   "outputs": [],
   "source": []
  }
 ],
 "metadata": {
  "kernelspec": {
   "display_name": "Python 3 (ipykernel)",
   "language": "python",
   "name": "python3"
  },
  "language_info": {
   "codemirror_mode": {
    "name": "ipython",
    "version": 3
   },
   "file_extension": ".py",
   "mimetype": "text/x-python",
   "name": "python",
   "nbconvert_exporter": "python",
   "pygments_lexer": "ipython3",
   "version": "3.9.7"
  }
 },
 "nbformat": 4,
 "nbformat_minor": 5
}
